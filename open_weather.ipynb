{
 "cells": [
  {
   "cell_type": "code",
   "execution_count": 5,
   "metadata": {},
   "outputs": [],
   "source": [
    "import json\n",
    "import requests"
   ]
  },
  {
   "cell_type": "code",
   "execution_count": 6,
   "metadata": {},
   "outputs": [],
   "source": [
    "#Api to fetch tempreture of a city\n",
    "city_name = input('enter a city name')\n",
    "api_key = 'e8ca7dfffa96607aa35cd477f70641ca'\n"
   ]
  },
  {
   "cell_type": "code",
   "execution_count": 7,
   "metadata": {},
   "outputs": [],
   "source": [
    "#To build the Api URL\n",
    "Api_url =f'https://api.openweathermap.org/data/2.5/weather?q={city_name}&appid={api_key}&units=metric'"
   ]
  },
  {
   "cell_type": "code",
   "execution_count": 9,
   "metadata": {},
   "outputs": [],
   "source": [
    "get_server_information = requests.get(Api_url)\n"
   ]
  },
  {
   "cell_type": "code",
   "execution_count": 10,
   "metadata": {},
   "outputs": [
    {
     "name": "stdout",
     "output_type": "stream",
     "text": [
      "<Response [200]>\n"
     ]
    }
   ],
   "source": [
    "print (get_server_information )"
   ]
  },
  {
   "cell_type": "code",
   "execution_count": 11,
   "metadata": {},
   "outputs": [],
   "source": [
    "json_data = get_server_information.json()"
   ]
  },
  {
   "cell_type": "code",
   "execution_count": 12,
   "metadata": {},
   "outputs": [
    {
     "name": "stdout",
     "output_type": "stream",
     "text": [
      "{'coord': {'lon': 13.0007, 'lat': 55.6059}, 'weather': [{'id': 804, 'main': 'Clouds', 'description': 'overcast clouds', 'icon': '04n'}], 'base': 'stations', 'main': {'temp': 14.31, 'feels_like': 13.99, 'temp_min': 12.39, 'temp_max': 15.06, 'pressure': 1024, 'humidity': 84, 'sea_level': 1024, 'grnd_level': 1023}, 'visibility': 10000, 'wind': {'speed': 3.67, 'deg': 100, 'gust': 7.03}, 'clouds': {'all': 100}, 'dt': 1726960351, 'sys': {'type': 1, 'id': 1575, 'country': 'SE', 'sunrise': 1726980829, 'sunset': 1727024849}, 'timezone': 7200, 'id': 2692969, 'name': 'Malmo', 'cod': 200}\n"
     ]
    }
   ],
   "source": [
    "print(json_data)"
   ]
  },
  {
   "cell_type": "code",
   "execution_count": 13,
   "metadata": {},
   "outputs": [],
   "source": [
    "#for pretty formating the json data\n",
    "pretty_data = json.dumps(json_data,indent= 4)"
   ]
  },
  {
   "cell_type": "code",
   "execution_count": 14,
   "metadata": {},
   "outputs": [
    {
     "name": "stdout",
     "output_type": "stream",
     "text": [
      "{\n",
      "    \"coord\": {\n",
      "        \"lon\": 13.0007,\n",
      "        \"lat\": 55.6059\n",
      "    },\n",
      "    \"weather\": [\n",
      "        {\n",
      "            \"id\": 804,\n",
      "            \"main\": \"Clouds\",\n",
      "            \"description\": \"overcast clouds\",\n",
      "            \"icon\": \"04n\"\n",
      "        }\n",
      "    ],\n",
      "    \"base\": \"stations\",\n",
      "    \"main\": {\n",
      "        \"temp\": 14.31,\n",
      "        \"feels_like\": 13.99,\n",
      "        \"temp_min\": 12.39,\n",
      "        \"temp_max\": 15.06,\n",
      "        \"pressure\": 1024,\n",
      "        \"humidity\": 84,\n",
      "        \"sea_level\": 1024,\n",
      "        \"grnd_level\": 1023\n",
      "    },\n",
      "    \"visibility\": 10000,\n",
      "    \"wind\": {\n",
      "        \"speed\": 3.67,\n",
      "        \"deg\": 100,\n",
      "        \"gust\": 7.03\n",
      "    },\n",
      "    \"clouds\": {\n",
      "        \"all\": 100\n",
      "    },\n",
      "    \"dt\": 1726960351,\n",
      "    \"sys\": {\n",
      "        \"type\": 1,\n",
      "        \"id\": 1575,\n",
      "        \"country\": \"SE\",\n",
      "        \"sunrise\": 1726980829,\n",
      "        \"sunset\": 1727024849\n",
      "    },\n",
      "    \"timezone\": 7200,\n",
      "    \"id\": 2692969,\n",
      "    \"name\": \"Malmo\",\n",
      "    \"cod\": 200\n",
      "}\n"
     ]
    }
   ],
   "source": [
    "print(pretty_data)"
   ]
  },
  {
   "cell_type": "code",
   "execution_count": 15,
   "metadata": {},
   "outputs": [],
   "source": [
    "main = json_data['main']['feels_like']"
   ]
  },
  {
   "cell_type": "code",
   "execution_count": 16,
   "metadata": {},
   "outputs": [
    {
     "name": "stdout",
     "output_type": "stream",
     "text": [
      "13.99\n"
     ]
    }
   ],
   "source": [
    "#to fetch specific data from json\n",
    "print(main)"
   ]
  },
  {
   "cell_type": "code",
   "execution_count": null,
   "metadata": {},
   "outputs": [],
   "source": []
  }
 ],
 "metadata": {
  "kernelspec": {
   "display_name": "Python 3",
   "language": "python",
   "name": "python3"
  },
  "language_info": {
   "codemirror_mode": {
    "name": "ipython",
    "version": 3
   },
   "file_extension": ".py",
   "mimetype": "text/x-python",
   "name": "python",
   "nbconvert_exporter": "python",
   "pygments_lexer": "ipython3",
   "version": "3.12.5"
  }
 },
 "nbformat": 4,
 "nbformat_minor": 2
}
